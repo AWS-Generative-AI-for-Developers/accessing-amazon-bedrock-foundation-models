{
 "cells": [
  {
   "cell_type": "code",
   "execution_count": 1,
   "id": "64cf127e",
   "metadata": {},
   "outputs": [],
   "source": [
    "import boto3\n",
    "import json\n",
    "import datetime\n",
    "from IPython.display import display, JSON\n",
    "\n",
    "bedrock_agent = boto3.client(\"bedrock-agent\")\n",
    "bedrock_runtime = boto3.client(\"bedrock-runtime\")\n",
    "bedrock_agent_runtime = boto3.client(\"bedrock-agent-runtime\")\n",
    "\n",
    "model_id = \"amazon.nova-micro-v1:0\""
   ]
  },
  {
   "cell_type": "code",
   "execution_count": 2,
   "id": "6d5a1250",
   "metadata": {},
   "outputs": [
    {
     "name": "stdout",
     "output_type": "stream",
     "text": [
      "\n",
      "==================== Response Object ====================\n",
      "\n"
     ]
    },
    {
     "data": {
      "application/json": {
       "ResponseMetadata": {
        "HTTPHeaders": {
         "connection": "keep-alive",
         "content-length": "1072",
         "content-type": "application/json",
         "date": "Thu, 17 Jul 2025 11:00:56 GMT",
         "x-amz-apigw-id": "N2asTH5HIAMEcSw=",
         "x-amzn-requestid": "3daae242-1ce0-4792-b43c-84ffb3da6e75",
         "x-amzn-trace-id": "Root=1-6878d7e7-24a4d00568cef71c04c5da0b"
        },
        "HTTPStatusCode": 201,
        "RequestId": "3daae242-1ce0-4792-b43c-84ffb3da6e75",
        "RetryAttempts": 0
       },
       "arn": "arn:aws:bedrock:us-east-1:120106008631:prompt/D8UQBG45AQ",
       "createdAt": "2025-07-17T11:00:56.018460Z",
       "defaultVariant": "v1",
       "description": "Generates inclusive job descriptions from structured inputs",
       "id": "D8UQBG45AQ",
       "name": "job-description-20250717110055",
       "updatedAt": "2025-07-17T11:00:56.018460Z",
       "variants": [
        {
         "inferenceConfiguration": {
          "text": {
           "maxTokens": 500,
           "stopSequences": [],
           "temperature": 0.699999988079071,
           "topP": 0.8999999761581421
          }
         },
         "modelId": "amazon.nova-micro-v1:0",
         "name": "v1",
         "templateConfiguration": {
          "text": {
           "inputVariables": [
            {
             "name": "job_title"
            },
            {
             "name": "responsibilities"
            },
            {
             "name": "requirements"
            },
            {
             "name": "location"
            },
            {
             "name": "work_type"
            }
           ],
           "text": "\nYou are an HR assistant.\n\nWrite a professional, inclusive job description using the following inputs:\n\nJob title: {{job_title}}\nResponsibilities: {{responsibilities}}\nRequirements: {{requirements}}\nLocation: {{location}}\nWork type: {{work_type}}\n\n- Start with a clear summary\n- Use concise, inclusive language\n- Keep it under 250 words\n"
          }
         },
         "templateType": "TEXT"
        }
       ],
       "version": "DRAFT"
      },
      "text/plain": [
       "<IPython.core.display.JSON object>"
      ]
     },
     "metadata": {
      "application/json": {
       "expanded": false,
       "root": "root"
      }
     },
     "output_type": "display_data"
    },
    {
     "name": "stdout",
     "output_type": "stream",
     "text": [
      "\n",
      "==================== Prompt ARN ====================\n",
      "\n",
      "arn:aws:bedrock:us-east-1:120106008631:prompt/D8UQBG45AQ\n"
     ]
    }
   ],
   "source": [
    "prompt_name = f\"job-description-{datetime.datetime.now().strftime('%Y%m%d%H%M%S')}\"\n",
    "\n",
    "template_text = '''\n",
    "You are an HR assistant.\n",
    "\n",
    "Write a professional, inclusive job description using the following inputs:\n",
    "\n",
    "Job title: {{job_title}}\n",
    "Responsibilities: {{responsibilities}}\n",
    "Requirements: {{requirements}}\n",
    "Location: {{location}}\n",
    "Work type: {{work_type}}\n",
    "\n",
    "- Start with a clear summary\n",
    "- Use concise, inclusive language\n",
    "- Keep it under 250 words\n",
    "'''\n",
    "response = bedrock_agent.create_prompt(\n",
    "    name=prompt_name,\n",
    "    description=\"Generates inclusive job descriptions from structured inputs\",\n",
    "    defaultVariant=\"v1\",\n",
    "    variants=[\n",
    "        {\n",
    "            \"name\": \"v1\",\n",
    "            \"modelId\": model_id,\n",
    "            \"templateType\": \"TEXT\",\n",
    "            \"templateConfiguration\": {\n",
    "                \"text\": {\n",
    "                    \"inputVariables\": [\n",
    "                        {\"name\": \"job_title\"},\n",
    "                        {\"name\": \"responsibilities\"},\n",
    "                        {\"name\": \"requirements\"},\n",
    "                        {\"name\": \"location\"},\n",
    "                        {\"name\": \"work_type\"}\n",
    "                    ],\n",
    "                    \"text\": template_text\n",
    "                }\n",
    "            },\n",
    "            \"inferenceConfiguration\": {\n",
    "                \"text\": {\n",
    "                    \"maxTokens\": 500,\n",
    "                    \"temperature\": 0.7,\n",
    "                    \"topP\": 0.9,\n",
    "                    \"stopSequences\": []\n",
    "                }\n",
    "            }\n",
    "        }\n",
    "    ]\n",
    ")\n",
    "print(\"\\n==================== Response Object ====================\\n\")\n",
    "display(JSON(response))\n",
    "\n",
    "print(\"\\n==================== Prompt ARN ====================\\n\")\n",
    "print(response['arn'])"
   ]
  },
  {
   "cell_type": "code",
   "execution_count": 3,
   "id": "ec2a2436",
   "metadata": {},
   "outputs": [
    {
     "name": "stdout",
     "output_type": "stream",
     "text": [
      "\n",
      "==================== PROMPT VERSION ARN ====================\n",
      "\n",
      "arn:aws:bedrock:us-east-1:120106008631:prompt/D8UQBG45AQ:1\n"
     ]
    }
   ],
   "source": [
    "# Create a new prompt version\n",
    "response = bedrock_agent.create_prompt_version(\n",
    "    description='Initial prompt for creating job description documents.',\n",
    "    promptIdentifier=\"arn:aws:bedrock:us-east-1:120106008631:prompt/D8UQBG45AQ\"\n",
    ")\n",
    "\n",
    "print(\"\\n==================== PROMPT VERSION ARN ====================\\n\")\n",
    "print(response[\"arn\"])"
   ]
  },
  {
   "cell_type": "code",
   "execution_count": 4,
   "id": "73ac3b4c",
   "metadata": {},
   "outputs": [
    {
     "name": "stdout",
     "output_type": "stream",
     "text": [
      "\n",
      "==================== Response Text ====================\n",
      "\n",
      "**Job Title: UX Designer**\n",
      "\n",
      "**Summary:**\n",
      "We are seeking a talented and inclusive UX Designer to join our dynamic team in New York or remotely. As a UX Designer, you will play a vital role in creating intuitive, user-friendly interfaces and conducting usability testing to enhance our products. Collaboration with cross-functional product teams is essential to ensure seamless user experiences.\n",
      "\n",
      "**Responsibilities:**\n",
      "- Design compelling user interfaces that meet user needs and business goals.\n",
      "- Conduct and analyze usability testing to identify and resolve user experience issues.\n",
      "- Collaborate closely with product, engineering, and design teams to deliver high-quality user experiences.\n",
      "- Utilize Figma for prototyping and design systems.\n",
      "- Write clean, maintainable HTML/CSS to implement design specifications.\n",
      "\n",
      "**Requirements:**\n",
      "- 3+ years of experience in UX design.\n",
      "- Proficiency in Figma for design and prototyping.\n",
      "- Strong knowledge of HTML/CSS.\n",
      "- Excellent communication skills to articulate ideas and collaborate effectively.\n",
      "\n",
      "**Location:** New York or remote\n",
      "\n",
      "**Work Type:** Full-time\n",
      "\n",
      "Join us and contribute to creating inclusive, innovative products that delight our users worldwide!\n"
     ]
    }
   ],
   "source": [
    "# Invoke the model\n",
    "prompt_arn_with_version = \"arn:aws:bedrock:us-east-1:120106008631:prompt/D8UQBG45AQ:1\"\n",
    "\n",
    "response = bedrock_runtime.converse(\n",
    "    modelId=prompt_arn_with_version,\n",
    "    promptVariables={\n",
    "        \"job_title\": {\"text\": \"UX Designer\"},\n",
    "        \"responsibilities\": {\"text\": \"Design user interfaces, run usability testing, collaborate with product teams\"},\n",
    "        \"requirements\": {\"text\": \"3+ years experience, Figma, HTML/CSS knowledge, communication skills\"},\n",
    "        \"location\": {\"text\": \"New York or remote\"},\n",
    "        \"work_type\": {\"text\": \"Full-time\"}\n",
    "    }\n",
    ")\n",
    "\n",
    "print(\"\\n==================== Response Text ====================\\n\")\n",
    "print(response['output']['message']['content'][0]['text'])"
   ]
  },
  {
   "cell_type": "code",
   "execution_count": 5,
   "id": "b367fc3f",
   "metadata": {},
   "outputs": [
    {
     "name": "stdout",
     "output_type": "stream",
     "text": [
      "\n",
      "==================== ORIGINAL PROMPT ====================\n",
      "\n",
      "\n",
      "You are an HR assistant.\n",
      "\n",
      "Write a professional, inclusive job description using the following inputs:\n",
      "\n",
      "Job title: {{job_title}}\n",
      "Responsibilities: {{responsibilities}}\n",
      "Requirements: {{requirements}}\n",
      "Location: {{location}}\n",
      "Work type: {{work_type}}\n",
      "\n",
      "- Start with a clear summary\n",
      "- Use concise, inclusive language\n",
      "- Keep it under 250 words\n",
      "\n",
      "\n",
      "==================== OPTIMIZED PROMPT ====================\n",
      "\n",
      "\"## Task\\nWrite a professional and inclusive job description for the given role.\\n\\n## Instructions\\n1. Review the provided inputs:\\n### Job Title\\n{{job_title}}\\n\\n### Responsibilities\\n{{responsibilities}}\\n\\n### Requirements\\n{{requirements}}\\n\\n### Location\\n{{location}}\\n\\n### Work Type\\n{{work_type}}\\n\\n2. Follow these guidelines to create the job description:\\n\\n### Job Description Structure\\n- Summary: [Provide a clear and concise overview of the role, highlighting the key responsibilities and requirements]\\n\\n- Responsibilities:\\n    - [List the main responsibilities using bullet points, based on the provided {{responsibilities}}]\\n\\n- Requirements:\\n    - [List the essential requirements using bullet points, based on the provided {{requirements}}]\\n\\n- Additional Details:\\n    - Location: {{location}}\\n    - Work Type: {{work_type}}\\n\\n3. Ensure the job description:\\n    - Uses concise, inclusive, and professional language\\n    - Avoids any discriminatory or biased language\\n    - Stays within the 250-word limit\\n\\n4. Provide the job description immediately without any preamble or additional information.\"\n"
     ]
    }
   ],
   "source": [
    "# Optimize prompt\n",
    "def handle_response_stream(response):\n",
    "    try:\n",
    "        event_stream = response['optimizedPrompt']\n",
    "        for event in event_stream:\n",
    "            if 'optimizedPromptEvent' in event:\n",
    "                print(\"\\n==================== OPTIMIZED PROMPT ====================\\n\")\n",
    "                print(event['optimizedPromptEvent']['optimizedPrompt']['textPrompt']['text'])\n",
    "    except Exception as e:\n",
    "        raise e\n",
    "\n",
    "\n",
    "prompt_input = {\n",
    "    \"textPrompt\": {\n",
    "        \"text\": template_text\n",
    "    }\n",
    "}\n",
    "\n",
    "response = bedrock_agent_runtime.optimize_prompt(\n",
    "            input=prompt_input,\n",
    "            targetModelId=model_id\n",
    "        )\n",
    "\n",
    "print(\"\\n==================== ORIGINAL PROMPT ====================\\n\")\n",
    "print(template_text)\n",
    "handle_response_stream(response)"
   ]
  },
  {
   "cell_type": "code",
   "execution_count": 6,
   "id": "9f30617c",
   "metadata": {},
   "outputs": [
    {
     "name": "stdout",
     "output_type": "stream",
     "text": [
      "\n",
      "==================== ORIGINAL PROMPT ====================\n",
      "\n",
      "\n",
      "You are an HR assistant.\n",
      "\n",
      "Write a professional, inclusive job description using the following inputs:\n",
      "\n",
      "Job title: {{job_title}}\n",
      "Responsibilities: {{responsibilities}}\n",
      "Requirements: {{requirements}}\n",
      "Location: {{location}}\n",
      "Work type: {{work_type}}\n",
      "\n",
      "- Start with a clear summary\n",
      "- Use concise, inclusive language\n",
      "- Keep it under 250 words\n",
      "\n",
      "\n",
      "==================== UPDATED PROMPT ====================\n",
      "\n",
      "## Task\n",
      "Write a professional and inclusive job description for the given role.\n",
      "\n",
      "## Instructions\n",
      "1. Review the provided inputs:\n",
      "### Job Title\n",
      "{{job_title}}\n",
      "\n",
      "### Responsibilities\n",
      "{{responsibilities}}\n",
      "\n",
      "### Requirements\n",
      "{{requirements}}\n",
      "\n",
      "### Location\n",
      "{{location}}\n",
      "\n",
      "### Work Type\n",
      "{{work_type}}\n",
      "\n",
      "2. Follow these guidelines to create the job description:\n",
      "\n",
      "### Job Description Structure\n",
      "- Summary: [Provide a clear and concise overview of the role, highlighting the key responsibilities and requirements]\n",
      "\n",
      "- Responsibilities:\n",
      "    - [List the main responsibilities using bullet points, based on the provided {{responsibilities}}]\n",
      "\n",
      "- Requirements:\n",
      "    - [List the essential requirements using bullet points, based on the provided {{requirements}}]\n",
      "\n",
      "- Additional Details:\n",
      "    - Location: {{location}}\n",
      "    - Work Type: {{work_type}}\n",
      "\n",
      "3. Ensure the job description:\n",
      "    - Uses concise, inclusive, and professional language\n",
      "    - Avoids any discriminatory or biased language\n",
      "    - Stays within the 250-word limit\n",
      "\n",
      "4. Provide the job description immediately without any preamble or additional information.\n"
     ]
    }
   ],
   "source": [
    "# Create a new prompt\n",
    "prompt_identifier = \"arn:aws:bedrock:us-east-1:120106008631:prompt/D8UQBG45AQ\"\n",
    "\n",
    "existing_prompt = bedrock_agent.get_prompt(promptIdentifier=prompt_identifier)\n",
    "print(\"\\n==================== ORIGINAL PROMPT ====================\\n\")\n",
    "print(existing_prompt[\"variants\"][0][\"templateConfiguration\"][\"text\"][\"text\"])\n",
    "\n",
    "\n",
    "updated_variants = existing_prompt[\"variants\"]\n",
    "for variant in updated_variants:\n",
    "    if variant[\"templateType\"] == \"TEXT\":\n",
    "        variant[\"templateConfiguration\"][\"text\"][\"text\"] = \"## Task\\nWrite a professional and inclusive job description for the given role.\\n\\n## Instructions\\n1. Review the provided inputs:\\n### Job Title\\n{{job_title}}\\n\\n### Responsibilities\\n{{responsibilities}}\\n\\n### Requirements\\n{{requirements}}\\n\\n### Location\\n{{location}}\\n\\n### Work Type\\n{{work_type}}\\n\\n2. Follow these guidelines to create the job description:\\n\\n### Job Description Structure\\n- Summary: [Provide a clear and concise overview of the role, highlighting the key responsibilities and requirements]\\n\\n- Responsibilities:\\n    - [List the main responsibilities using bullet points, based on the provided {{responsibilities}}]\\n\\n- Requirements:\\n    - [List the essential requirements using bullet points, based on the provided {{requirements}}]\\n\\n- Additional Details:\\n    - Location: {{location}}\\n    - Work Type: {{work_type}}\\n\\n3. Ensure the job description:\\n    - Uses concise, inclusive, and professional language\\n    - Avoids any discriminatory or biased language\\n    - Stays within the 250-word limit\\n\\n4. Provide the job description immediately without any preamble or additional information.\"\n",
    "\n",
    "\n",
    "response = bedrock_agent.update_prompt(\n",
    "    promptIdentifier=prompt_identifier,\n",
    "    name=existing_prompt[\"name\"],\n",
    "    description=existing_prompt[\"description\"],\n",
    "    defaultVariant=existing_prompt[\"defaultVariant\"],\n",
    "    variants=updated_variants\n",
    ")\n",
    "\n",
    "print(\"\\n==================== UPDATED PROMPT ====================\\n\")\n",
    "\n",
    "updated_prompt = bedrock_agent.get_prompt(promptIdentifier=prompt_identifier)\n",
    "print(updated_prompt[\"variants\"][0][\"templateConfiguration\"][\"text\"][\"text\"])"
   ]
  },
  {
   "cell_type": "code",
   "execution_count": 7,
   "id": "8e22d9de",
   "metadata": {},
   "outputs": [
    {
     "name": "stdout",
     "output_type": "stream",
     "text": [
      "\n",
      "==================== PROMPT VERSION ARN ====================\n",
      "\n",
      "arn:aws:bedrock:us-east-1:120106008631:prompt/D8UQBG45AQ:2\n"
     ]
    }
   ],
   "source": [
    "response = bedrock_agent.create_prompt_version(\n",
    "    description='Optimized prompt for creating job description documents.',\n",
    "    promptIdentifier=prompt_identifier\n",
    ")\n",
    "\n",
    "print(\"\\n==================== PROMPT VERSION ARN ====================\\n\")\n",
    "print(response[\"arn\"])"
   ]
  },
  {
   "cell_type": "markdown",
   "id": "1a8b52df",
   "metadata": {},
   "source": [
    "#### Compare Versions"
   ]
  },
  {
   "cell_type": "code",
   "execution_count": 8,
   "id": "30634f43",
   "metadata": {},
   "outputs": [
    {
     "name": "stdout",
     "output_type": "stream",
     "text": [
      "\\n==================== Response Text ====================\\n\n",
      "**Job Title: UX Designer**\n",
      "\n",
      "**Summary:**\n",
      "We are seeking a talented and inclusive UX Designer to join our dynamic team in New York or remotely. As a UX Designer, you will be responsible for designing intuitive user interfaces, conducting usability testing, and collaborating closely with our product teams to enhance user experience. Your expertise in Figma, HTML/CSS, and strong communication skills will be pivotal in driving our projects forward.\n",
      "\n",
      "**Responsibilities:**\n",
      "- Design compelling and user-friendly interfaces.\n",
      "- Conduct thorough usability testing to refine and improve user experiences.\n",
      "- Collaborate effectively with cross-functional product teams to deliver exceptional user experiences.\n",
      "- Utilize Figma for prototyping and design.\n",
      "- Apply HTML/CSS knowledge to implement design specifications.\n",
      "\n",
      "**Requirements:**\n",
      "- 3+ years of experience in UX design.\n",
      "- Proficiency in Figma.\n",
      "- Strong understanding of HTML/CSS.\n",
      "- Excellent communication skills.\n",
      "\n",
      "**Location:** New York or remote\n",
      "\n",
      "**Work Type:** Full-time\n",
      "\n",
      "Join us and contribute to creating inclusive, innovative, and user-centered products that make a difference. We celebrate diversity and are committed to creating an inclusive environment for all employees.\n"
     ]
    }
   ],
   "source": [
    "prompt_arn = \"arn:aws:bedrock:us-east-1:120106008631:prompt/D8UQBG45AQ:1\"\n",
    "\n",
    "response = bedrock_runtime.converse(\n",
    "    modelId=prompt_arn,\n",
    "    promptVariables={\n",
    "        \"job_title\": {\"text\": \"UX Designer\"},\n",
    "        \"responsibilities\": {\"text\": \"Design user interfaces, run usability testing, collaborate with product teams\"},\n",
    "        \"requirements\": {\"text\": \"3+ years experience, Figma, HTML/CSS knowledge, communication skills\"},\n",
    "        \"location\": {\"text\": \"New York or remote\"},\n",
    "        \"work_type\": {\"text\": \"Full-time\"}\n",
    "    }\n",
    ")\n",
    "\n",
    "print(\"\\\\n==================== Response Text ====================\\\\n\")\n",
    "print(response['output']['message']['content'][0]['text'])"
   ]
  },
  {
   "cell_type": "code",
   "execution_count": 9,
   "id": "b7036d70",
   "metadata": {},
   "outputs": [
    {
     "name": "stdout",
     "output_type": "stream",
     "text": [
      "\\n==================== Response Text ====================\\n\n",
      "**Job Title: UX Designer**\n",
      "\n",
      "**Summary:**\n",
      "We are looking for a talented and inclusive UX Designer to join our team. The ideal candidate will design user interfaces, conduct usability testing, and collaborate with product teams to enhance user experience. This full-time position is available in New York or as a remote opportunity.\n",
      "\n",
      "**Responsibilities:**\n",
      "- Design intuitive and user-friendly interfaces\n",
      "- Conduct usability testing to gather and analyze user feedback\n",
      "- Collaborate with cross-functional product teams to implement design solutions\n",
      "\n",
      "**Requirements:**\n",
      "- 3+ years of experience in UX design\n",
      "- Proficiency in Figma\n",
      "- Knowledge of HTML/CSS\n",
      "- Strong communication skills\n",
      "\n",
      "**Additional Details:**\n",
      "- Location: New York or remote\n",
      "- Work Type: Full-time\n"
     ]
    }
   ],
   "source": [
    "prompt_arn = \"arn:aws:bedrock:us-east-1:120106008631:prompt/D8UQBG45AQ:2\"\n",
    "\n",
    "response = bedrock_runtime.converse(\n",
    "    modelId=prompt_arn,\n",
    "    promptVariables={\n",
    "        \"job_title\": {\"text\": \"UX Designer\"},\n",
    "        \"responsibilities\": {\"text\": \"Design user interfaces, run usability testing, collaborate with product teams\"},\n",
    "        \"requirements\": {\"text\": \"3+ years experience, Figma, HTML/CSS knowledge, communication skills\"},\n",
    "        \"location\": {\"text\": \"New York or remote\"},\n",
    "        \"work_type\": {\"text\": \"Full-time\"}\n",
    "    }\n",
    ")\n",
    "\n",
    "print(\"\\\\n==================== Response Text ====================\\\\n\")\n",
    "print(response['output']['message']['content'][0]['text'])"
   ]
  },
  {
   "cell_type": "code",
   "execution_count": 10,
   "id": "2069d454",
   "metadata": {},
   "outputs": [
    {
     "name": "stdout",
     "output_type": "stream",
     "text": [
      "Deleting prompt: job-description-20250717110055 (ID: D8UQBG45AQ)\n",
      "All prompts deleted successfully\n"
     ]
    }
   ],
   "source": [
    "# Cleanup resources\n",
    "response = bedrock_agent.list_prompts()\n",
    "\n",
    "for prompt in response['promptSummaries']:\n",
    "    prompt_id = prompt['id']  # The correct key is 'id', not 'promptId'\n",
    "    print(f\"Deleting prompt: {prompt['name']} (ID: {prompt_id})\")\n",
    "    bedrock_agent.delete_prompt(promptIdentifier=prompt_id)\n",
    "\n",
    "print(\"All prompts deleted successfully\")"
   ]
  }
 ],
 "metadata": {
  "kernelspec": {
   "display_name": ".venv",
   "language": "python",
   "name": "python3"
  },
  "language_info": {
   "codemirror_mode": {
    "name": "ipython",
    "version": 3
   },
   "file_extension": ".py",
   "mimetype": "text/x-python",
   "name": "python",
   "nbconvert_exporter": "python",
   "pygments_lexer": "ipython3",
   "version": "3.12.1"
  }
 },
 "nbformat": 4,
 "nbformat_minor": 5
}
