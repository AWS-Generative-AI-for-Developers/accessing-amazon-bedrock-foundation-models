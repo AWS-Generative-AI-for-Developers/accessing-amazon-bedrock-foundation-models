{
 "cells": [
  {
   "cell_type": "code",
   "execution_count": 1,
   "id": "5f852187",
   "metadata": {},
   "outputs": [],
   "source": [
    "import boto3\n",
    "import json"
   ]
  },
  {
   "cell_type": "code",
   "execution_count": 2,
   "id": "7a83e3d6",
   "metadata": {},
   "outputs": [],
   "source": [
    "MODEL_ID = \"amazon.nova-micro-v1:0\"\n",
    "bedrock = boto3.client(service_name='bedrock-runtime', region_name='us-east-1')\n"
   ]
  },
  {
   "cell_type": "code",
   "execution_count": 3,
   "id": "19358253",
   "metadata": {},
   "outputs": [
    {
     "data": {
      "text/plain": [
       "b'{\"output\":{\"message\":{\"content\":[{\"text\":\"You exhibit exceptional proficiency in your professional responsibilities.\"}],\"role\":\"assistant\"}},\"stopReason\":\"end_turn\",\"usage\":{\"inputTokens\":19,\"outputTokens\":10,\"totalTokens\":29,\"cacheReadInputTokenCount\":0,\"cacheWriteInputTokenCount\":0}}'"
      ]
     },
     "execution_count": 3,
     "metadata": {},
     "output_type": "execute_result"
    }
   ],
   "source": [
    "\n",
    "response = bedrock.invoke_model(\n",
    "    modelId=MODEL_ID,\n",
    "    guardrailVersion=\"DRAFT\",\n",
    "    body=json.dumps({\n",
    "        \"schemaVersion\": \"messages-v1\",\n",
    "        \"messages\": [{\"role\": \"user\", \"content\": [{\"text\": \"Rewrite this sentence for me in a formal tone: You are very good at your job.\"}]}],\n",
    "        \"inferenceConfig\": {\"maxTokens\": 500, \"topK\": 20, \"temperature\": 0.7}\n",
    "    })\n",
    ")\n",
    "\n",
    "response['body'].read()"
   ]
  }
 ],
 "metadata": {
  "kernelspec": {
   "display_name": ".venv",
   "language": "python",
   "name": "python3"
  },
  "language_info": {
   "codemirror_mode": {
    "name": "ipython",
    "version": 3
   },
   "file_extension": ".py",
   "mimetype": "text/x-python",
   "name": "python",
   "nbconvert_exporter": "python",
   "pygments_lexer": "ipython3",
   "version": "3.12.1"
  }
 },
 "nbformat": 4,
 "nbformat_minor": 5
}
